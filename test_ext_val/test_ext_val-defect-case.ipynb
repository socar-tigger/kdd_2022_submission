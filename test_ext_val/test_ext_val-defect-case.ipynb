{
 "cells": [
  {
   "cell_type": "markdown",
   "metadata": {},
   "source": [
    "# Configuration "
   ]
  },
  {
   "cell_type": "code",
   "execution_count": 20,
   "metadata": {},
   "outputs": [],
   "source": [
    "import sys \n",
    "import easydict\n",
    "sys.path.append('../')\n",
    "from utils.data import name_to_class\n",
    "\n",
    "args = easydict.EasyDict(\n",
    "    {\n",
    "        'model_path': '../artifacts/pmg_baseline/defect_exp1',\n",
    "        'arch': 'pmg', # 'pmg', 'resnet'\n",
    "        'method': 'baseline', # 'uni', 'multi', 'baseline'\n",
    "        'data_root_path': '../../../../dataset/99_ext_car_defect_recognition_v2',\n",
    "        'train_class': 'outer_normal,outer_damage',\n",
    "        'test_class': 'outer_normal,outer_damage',\n",
    "\n",
    "        'num_workers': 4, \n",
    "        'batch_size': 128 ,\n",
    "        'ce_label': False, \n",
    "        'show_img': False, # to show result imgs \n",
    "    }\n",
    ")\n",
    "args.train_class_name = [item for item in args.train_class.split(',')]\n",
    "args.test_class_name = [item for item in args.test_class.split(',')]\n",
    "\n",
    "args.train_class = [name_to_class[item] for item in args.train_class.split(',')]\n",
    "args.test_class = [name_to_class[item] for item in args.test_class.split(',')]"
   ]
  },
  {
   "cell_type": "markdown",
   "metadata": {},
   "source": [
    "# Dataloader "
   ]
  },
  {
   "cell_type": "code",
   "execution_count": 2,
   "metadata": {},
   "outputs": [],
   "source": [
    "import cv2\n",
    "import glob \n",
    "from PIL import Image, ImageFile\n",
    "\n",
    "from torch.utils.data.dataset import Dataset\n",
    "from torch.utils.data import DataLoader\n",
    "from torchvision import transforms\n",
    "\n",
    "ImageFile.LOAD_TRUNCATED_IMAGES = True\n",
    "\n",
    "normalize = transforms.Normalize(\n",
    "            mean=[0.485, 0.456, 0.406],\n",
    "            std=[0.229, 0.224, 0.225]\n",
    "        )\n",
    "\n",
    "test_transform = transforms.Compose([\n",
    "            transforms.Resize((448, 448)),\n",
    "            transforms.ToTensor(),\n",
    "            normalize\n",
    "        ])\n",
    "\n",
    "class SofarExtDataset(Dataset):\n",
    "    def __init__(self, root, transform=None):\n",
    "        self.root = root\n",
    "        self.data = glob.glob(root + '/*/*.jpg')\n",
    "        \n",
    "        self.transform = transform\n",
    "        \n",
    "    def __getitem__(self, index):\n",
    "        path  = self.data[index]\n",
    "        filename = path.split('/')[-1]\n",
    "        # x = Image.open(path).convert(\"RGB\")\n",
    "        img = cv2.imread(path)[:,:,::-1]\n",
    "        x = Image.fromarray(img)\n",
    "        \n",
    "        if self.transform is not None:\n",
    "            x = self.transform(x)\n",
    "        if 'normal' in path:\n",
    "            label = 0 \n",
    "        elif 'weak' in path or 'strong' in path:\n",
    "            label = 1\n",
    "        return x, label, path\n",
    "\n",
    "    def __len__(self):\n",
    "        return len(self.data)"
   ]
  },
  {
   "cell_type": "markdown",
   "metadata": {},
   "source": [
    "# Model"
   ]
  },
  {
   "cell_type": "code",
   "execution_count": 21,
   "metadata": {},
   "outputs": [
    {
     "name": "stdout",
     "output_type": "stream",
     "text": [
      "pre-trained v2 model is loaded\n"
     ]
    }
   ],
   "source": [
    "import os \n",
    "import torch \n",
    "import torch.nn as nn \n",
    "\n",
    "from model.set_model import set_model\n",
    "\n",
    "model = set_model(args)\n",
    "\n",
    "state_dict = torch.load(os.path.join(args.model_path, 'last.pth'), map_location='cpu')\n",
    "model.load_state_dict(state_dict)\n",
    "print('pre-trained v2 model is loaded')"
   ]
  },
  {
   "cell_type": "markdown",
   "metadata": {},
   "source": [
    "# Utils"
   ]
  },
  {
   "cell_type": "code",
   "execution_count": 4,
   "metadata": {},
   "outputs": [],
   "source": [
    "from sklearn.metrics import *\n",
    "\n",
    "def calculate_metrics(trues, preds):\n",
    "    accuracy = accuracy_score(trues, preds)\n",
    "    f1 = f1_score(trues, preds, average='macro')\n",
    "    precision = precision_score(trues, preds, average='macro')\n",
    "    recall = recall_score(trues, preds, average='macro')\n",
    "\n",
    "    return accuracy, f1, precision, recall"
   ]
  },
  {
   "cell_type": "markdown",
   "metadata": {},
   "source": [
    "# Test"
   ]
  },
  {
   "cell_type": "code",
   "execution_count": 23,
   "metadata": {},
   "outputs": [],
   "source": [
    "from tqdm import tqdm \n",
    "import numpy as np \n",
    "\n",
    "@torch.no_grad() \n",
    "def test(dataloader, model):\n",
    "    device = torch.device(\"cuda:0\" if torch.cuda.is_available() else \"cpu\")\n",
    "    \n",
    "    model.to(device)\n",
    "    model.eval()\n",
    "\n",
    "    test_preds = []\n",
    "    test_labels =[] \n",
    "\n",
    "    for (img, label, _) in tqdm(dataloader):\n",
    "        img = img.to(device)\n",
    "\n",
    "        # forward\n",
    "        if args.arch == 'resnet':\n",
    "            out = model(img)\n",
    "            \n",
    "        elif args.arch == 'pmg':\n",
    "            out = model._forward(img)\n",
    "            out = out[-1]\n",
    "        \n",
    "        # pred \n",
    "        if args.method == 'uni':\n",
    "            pass \n",
    "        elif args.method == 'baseline':\n",
    "            _, pred = torch.max(out, 1)\n",
    "            pred = pred.view(-1).cpu().detach().numpy()\n",
    "            pred = [args.train_class_name[v] for v in pred]\n",
    "            pred = [name_to_class[v] for v in pred]\n",
    "            test_preds.extend(pred)\n",
    "        elif args.method == 'multi':\n",
    "            pass\n",
    "        test_labels.extend(label.view(-1).cpu().numpy().tolist())\n",
    "\n",
    "    \n",
    "    return test_labels, test_preds\n",
    "\n",
    "\n",
    "def parse_result(test_labels, test_preds, method, task):\n",
    "    if task == 'dirt':\n",
    "        target = [0,2]\n",
    "    elif task == 'defect':\n",
    "        target = [0,1]\n",
    "    task_idx = np.isin(test_labels, target)\n",
    "    \n",
    "    test_labels = np.array(test_labels)[task_idx]\n",
    "    test_preds = np.array(test_preds)[task_idx]\n",
    "    \n",
    "    if method == 'uni':\n",
    "        if task == 'defect':\n",
    "            target = 1\n",
    "        elif task == 'dirt':\n",
    "            target = 2 \n",
    "\n",
    "        _test_preds = []\n",
    "        for v in test_preds:\n",
    "            if v == target:\n",
    "                _test_preds.append(target)\n",
    "            else:\n",
    "                _test_preds.append(0) \n",
    "        test_preds = _test_preds\n",
    "\n",
    "    return test_labels, test_preds"
   ]
  },
  {
   "cell_type": "code",
   "execution_count": 24,
   "metadata": {},
   "outputs": [
    {
     "name": "stdout",
     "output_type": "stream",
     "text": [
      "1286\n"
     ]
    },
    {
     "name": "stderr",
     "output_type": "stream",
     "text": [
      "100%|██████████| 11/11 [00:40<00:00,  3.70s/it]\n"
     ]
    },
    {
     "name": "stdout",
     "output_type": "stream",
     "text": [
      "[TEST] Acc: 0.564 || precision 0.543 || recall 0.709 || f1 0.441\n",
      "[[664 552]\n",
      " [  9  61]]\n",
      "913\n"
     ]
    },
    {
     "name": "stderr",
     "output_type": "stream",
     "text": [
      "100%|██████████| 8/8 [00:29<00:00,  3.74s/it]\n"
     ]
    },
    {
     "name": "stdout",
     "output_type": "stream",
     "text": [
      "[TEST] Acc: 0.647 || precision 0.584 || recall 0.730 || f1 0.540\n",
      "[[516 307]\n",
      " [ 15  75]]\n",
      "1145\n"
     ]
    },
    {
     "name": "stderr",
     "output_type": "stream",
     "text": [
      " 11%|█         | 1/9 [00:13<01:49, 13.72s/it]Premature end of JPEG file\n",
      " 33%|███▎      | 3/9 [00:16<00:24,  4.03s/it]Premature end of JPEG file\n",
      "100%|██████████| 9/9 [00:37<00:00,  4.17s/it]\n"
     ]
    },
    {
     "name": "stdout",
     "output_type": "stream",
     "text": [
      "[TEST] Acc: 0.703 || precision 0.625 || recall 0.784 || f1 0.608\n",
      "[[684 325]\n",
      " [ 15 121]]\n",
      "1066\n"
     ]
    },
    {
     "name": "stderr",
     "output_type": "stream",
     "text": [
      "100%|██████████| 9/9 [00:31<00:00,  3.49s/it]"
     ]
    },
    {
     "name": "stdout",
     "output_type": "stream",
     "text": [
      "[TEST] Acc: 0.763 || precision 0.662 || recall 0.808 || f1 0.673\n",
      "[[686 234]\n",
      " [ 19 127]]\n"
     ]
    },
    {
     "name": "stderr",
     "output_type": "stream",
     "text": [
      "\n"
     ]
    }
   ],
   "source": [
    "cases = ['2021-02-04-the-day-snowed', '2021-02-05-the-day-after-snowed', \n",
    "         '2021-04-03-the-day-rained', '2021-04-04-the-day-after-rained']\n",
    "for case in cases:\n",
    "    path = os.path.join(args.data_root_path, case)\n",
    "    \n",
    "    # external validation dataloader \n",
    "    ext_dataset = SofarExtDataset(path, \n",
    "                                    transform=test_transform)\n",
    "    print(len(ext_dataset))\n",
    "    ext_loader = DataLoader(\n",
    "                ext_dataset,\n",
    "                batch_size=args.batch_size,\n",
    "                shuffle=False,\n",
    "                num_workers=args.num_workers,\n",
    "                pin_memory=True,\n",
    "                drop_last=False,\n",
    "            ) \n",
    "    labels, preds = test(ext_loader, model)\n",
    "   \n",
    "   \n",
    "    task_labels, task_preds = parse_result(labels, preds, args.method, task='defect') \n",
    "    acc, f1, prec, rec = calculate_metrics(task_labels, task_preds)\n",
    "    print(case)\n",
    "    print('[Results] Acc || Prec. || Rec. || F1')\n",
    "    print('{:.3f} {:.3f} {:.3f} {:.3f}'.format(acc, prec, rec, f1))\n",
    "    print(confusion_matrix(task_labels, task_preds))"
   ]
  },
  {
   "cell_type": "code",
   "execution_count": null,
   "metadata": {},
   "outputs": [],
   "source": []
  }
 ],
 "metadata": {
  "kernelspec": {
   "display_name": "Python 3 (ipykernel)",
   "language": "python",
   "name": "python3"
  },
  "language_info": {
   "codemirror_mode": {
    "name": "ipython",
    "version": 3
   },
   "file_extension": ".py",
   "mimetype": "text/x-python",
   "name": "python",
   "nbconvert_exporter": "python",
   "pygments_lexer": "ipython3",
   "version": "3.8.7"
  }
 },
 "nbformat": 4,
 "nbformat_minor": 4
}
