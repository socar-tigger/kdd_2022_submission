{
 "cells": [
  {
   "cell_type": "markdown",
   "metadata": {},
   "source": [
    "# Configuration "
   ]
  },
  {
   "cell_type": "code",
   "execution_count": 1,
   "metadata": {},
   "outputs": [],
   "source": [
    "import sys \n",
    "import easydict\n",
    "sys.path.append('../')\n",
    "from utils.data import name_to_class\n",
    "args = easydict.EasyDict(\n",
    "    {\n",
    "        'model_path': '../artifacts/pmg_uni/exp1',\n",
    "        'arch': 'pmg', # 'pmg', 'resnet'\n",
    "        'method': 'uni', # 'uni', 'multi', 'baseline'\n",
    "        \n",
    "        'data_root_path': '../../../../dataset/99_ext_car_dirt_defect_multi',\n",
    "\n",
    "        'train_class': 'outer_normal,outer_damage,outer_dirt,outer_wash,inner_wash,inner_dashboard,inner_cupholder,inner_glovebox,inner_washer_fluid,inner_rear_seat,inner_sheet_dirt', \n",
    "        'test_class': 'outer_normal,outer_damage,outer_dirt,outer_wash,inner_wash,inner_dashboard,inner_cupholder,inner_glovebox,inner_washer_fluid,inner_rear_seat,inner_sheet_dirt', \n",
    "\n",
    "        'num_workers': 4, \n",
    "        'batch_size': 128 ,\n",
    "        'ce_label': False, \n",
    "        'show_img': False, # to show result imgs \n",
    "    }\n",
    ")\n",
    "args.train_class_name = [item for item in args.train_class.split(',')]\n",
    "args.test_class_name = [item for item in args.test_class.split(',')]\n",
    "\n",
    "args.train_class = [name_to_class[item] for item in args.train_class.split(',')]\n",
    "args.test_class = [name_to_class[item] for item in args.test_class.split(',')]"
   ]
  },
  {
   "cell_type": "markdown",
   "metadata": {},
   "source": [
    "# Dataloader "
   ]
  },
  {
   "cell_type": "code",
   "execution_count": 2,
   "metadata": {},
   "outputs": [],
   "source": [
    "import cv2\n",
    "import glob \n",
    "from PIL import Image, ImageFile\n",
    "\n",
    "from torch.utils.data.dataset import Dataset\n",
    "from torch.utils.data import DataLoader\n",
    "from torchvision import transforms\n",
    "\n",
    "ImageFile.LOAD_TRUNCATED_IMAGES = True\n",
    "\n",
    "normalize = transforms.Normalize(\n",
    "            mean=[0.485, 0.456, 0.406],\n",
    "            std=[0.229, 0.224, 0.225]\n",
    "        )\n",
    "\n",
    "test_transform = transforms.Compose([\n",
    "            transforms.Resize((448, 448)),\n",
    "            transforms.ToTensor(),\n",
    "            normalize\n",
    "        ])\n",
    "\n",
    "class SofarExtDataset(Dataset):\n",
    "    def __init__(self, root, transform=None):\n",
    "        self.root = root\n",
    "        self.data = glob.glob(root + '/*.jpg')\n",
    "        \n",
    "        self.transform = transform\n",
    "        \n",
    "    def __getitem__(self, index):\n",
    "        path  = self.data[index]\n",
    "        filename = path.split('/')[-1]\n",
    "        # x = Image.open(path).convert(\"RGB\")\n",
    "        img = cv2.imread(path)[:,:,::-1]\n",
    "        x = Image.fromarray(img)\n",
    "        \n",
    "        if self.transform is not None:\n",
    "            x = self.transform(x)\n",
    "        return x, path\n",
    "\n",
    "    def __len__(self):\n",
    "        return len(self.data)"
   ]
  },
  {
   "cell_type": "code",
   "execution_count": 3,
   "metadata": {},
   "outputs": [
    {
     "name": "stdout",
     "output_type": "stream",
     "text": [
      "38\n"
     ]
    }
   ],
   "source": [
    "# external validation dataloader \n",
    "ext_dataset = SofarExtDataset(args.data_root_path, \n",
    "                                transform=test_transform)\n",
    "print(len(ext_dataset))\n",
    "ext_loader = DataLoader(\n",
    "            ext_dataset,\n",
    "            batch_size=args.batch_size,\n",
    "            shuffle=False,\n",
    "            num_workers=args.num_workers,\n",
    "            pin_memory=True,\n",
    "            drop_last=False,\n",
    "        ) "
   ]
  },
  {
   "cell_type": "markdown",
   "metadata": {},
   "source": [
    "# Model"
   ]
  },
  {
   "cell_type": "code",
   "execution_count": 4,
   "metadata": {},
   "outputs": [
    {
     "name": "stdout",
     "output_type": "stream",
     "text": [
      "pre-trained v2 model is loaded\n"
     ]
    }
   ],
   "source": [
    "import os \n",
    "import torch \n",
    "import torch.nn as nn \n",
    "\n",
    "from model.set_model import set_model\n",
    "\n",
    "model = set_model(args)\n",
    "\n",
    "state_dict = torch.load(os.path.join(args.model_path, 'last.pth'), map_location='cpu')\n",
    "model.load_state_dict(state_dict)\n",
    "print('pre-trained v2 model is loaded')"
   ]
  },
  {
   "cell_type": "markdown",
   "metadata": {},
   "source": [
    "# Test"
   ]
  },
  {
   "cell_type": "code",
   "execution_count": 5,
   "metadata": {},
   "outputs": [],
   "source": [
    "from tqdm import tqdm \n",
    "import numpy as np \n",
    "\n",
    "@torch.no_grad() \n",
    "def test(dataloader, model):\n",
    "    device = torch.device(\"cuda:0\" if torch.cuda.is_available() else \"cpu\")\n",
    "    \n",
    "    model.to(device)\n",
    "    model.eval()\n",
    "\n",
    "    top1, top2 = [], []\n",
    "\n",
    "    for (img, path) in tqdm(dataloader):\n",
    "        img = img.to(device)\n",
    "\n",
    "        # forward\n",
    "        if args.arch == 'resnet':\n",
    "            out = model(img)\n",
    "            \n",
    "        elif args.arch == 'pmg':\n",
    "            out = model._forward(img)\n",
    "            out = out[-1]\n",
    "        \n",
    "        # pred \n",
    "        if args.method == 'uni':\n",
    "            # _, pred = torch.max(out, 1)\n",
    "            _, pred = torch.topk(out, dim=1, k=2) \n",
    "            top1.extend(pred[:,0].view(-1).cpu().detach().numpy().tolist())\n",
    "            top2.extend(pred[:,1].view(-1).cpu().detach().numpy().tolist())\n",
    "    \n",
    "    return top1, top2"
   ]
  },
  {
   "cell_type": "code",
   "execution_count": 6,
   "metadata": {},
   "outputs": [
    {
     "name": "stderr",
     "output_type": "stream",
     "text": [
      "100%|██████████| 1/1 [00:04<00:00,  4.07s/it]\n"
     ]
    }
   ],
   "source": [
    "top1, top2 = test(ext_loader, model)"
   ]
  },
  {
   "cell_type": "code",
   "execution_count": 7,
   "metadata": {},
   "outputs": [],
   "source": [
    "def get_result(top_pred):\n",
    "    num_data = len(top_pred) \n",
    "\n",
    "    class_to_name = {1:'outer_damage', 2:'outer_dirt'}\n",
    "\n",
    "    counts = {}\n",
    "    for k in class_to_name:\n",
    "        count = 0 \n",
    "        for v in top_pred:\n",
    "            if v == k:\n",
    "                count += 1 \n",
    "        counts[class_to_name[k]] = float(count) / num_data \n",
    "\n",
    "    counts['etc'] = 1- sum(counts.values())\n",
    "\n",
    "    return counts "
   ]
  },
  {
   "cell_type": "code",
   "execution_count": 8,
   "metadata": {},
   "outputs": [
    {
     "name": "stdout",
     "output_type": "stream",
     "text": [
      "{'outer_damage': 0.8421052631578947, 'outer_dirt': 0.13157894736842105, 'etc': 0.026315789473684292}\n",
      "{'outer_damage': 0.13157894736842105, 'outer_dirt': 0.6578947368421053, 'etc': 0.21052631578947367}\n"
     ]
    },
    {
     "data": {
      "image/png": "[encoded data removed]",
      "text/plain": [
       "<Figure size 432x288 with 1 Axes>"
      ]
     },
     "metadata": {
      "needs_background": "light"
     },
     "output_type": "display_data"
    }
   ],
   "source": [
    "import matplotlib.pyplot as plt\n",
    "\n",
    "top1_result = get_result(top1)\n",
    "top2_result = get_result(top2)\n",
    "\n",
    "print(top1_result)\n",
    "print(top2_result)\n",
    "\n",
    "bar_width = 0.35\n",
    "alpha = 0.5\n",
    "\n",
    "index = np.arange(len(top1_result.keys()))\n",
    "p1 = plt.bar(index, top1_result.values(),\n",
    "            bar_width, \n",
    "            color='b', \n",
    "            alpha=alpha,\n",
    "            label='Top1 prediction')\n",
    "p2 = plt.bar(index+ bar_width, top2_result.values(),\n",
    "            bar_width, \n",
    "            color='r', \n",
    "            alpha=alpha,\n",
    "            label='Top2 prediction')\n",
    "plt.ylabel('Prediction Ratio', fontsize=13)\n",
    "\n",
    "plt.xlabel('Predicted Label', fontsize=13)\n",
    "\n",
    "# plt.xticks(index, top1_result.keys())\n",
    "plt.xticks(index, ['Defect', 'Dirt', 'Others'])\n",
    "\n",
    "plt.legend()\n",
    "plt.show()\n"
   ]
  },
  {
   "cell_type": "code",
   "execution_count": null,
   "metadata": {},
   "outputs": [],
   "source": []
  }
 ],
 "metadata": {
  "kernelspec": {
   "display_name": "Python 3 (ipykernel)",
   "language": "python",
   "name": "python3"
  },
  "language_info": {
   "codemirror_mode": {
    "name": "ipython",
    "version": 3
   },
   "file_extension": ".py",
   "mimetype": "text/x-python",
   "name": "python",
   "nbconvert_exporter": "python",
   "pygments_lexer": "ipython3",
   "version": "3.8.7"
  }
 },
 "nbformat": 4,
 "nbformat_minor": 4
}
