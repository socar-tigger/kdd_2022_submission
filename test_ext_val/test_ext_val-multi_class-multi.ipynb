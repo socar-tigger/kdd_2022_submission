{
 "cells": [
  {
   "cell_type": "markdown",
   "metadata": {},
   "source": [
    "# Configuration "
   ]
  },
  {
   "cell_type": "code",
   "execution_count": 1,
   "metadata": {},
   "outputs": [],
   "source": [
    "import sys \n",
    "import easydict\n",
    "sys.path.append('../')\n",
    "from utils.data import name_to_class\n",
    "args = easydict.EasyDict(\n",
    "    {\n",
    "        'model_path': '../artifacts/pmg_multi_v2/exp2',\n",
    "        'arch': 'pmg', # 'pmg', 'resnet'\n",
    "        'method': 'multi_v2', # 'uni', 'multi', 'baseline'\n",
    "        \n",
    "        'data_root_path': '../../../../dataset/99_ext_car_dirt_defect_multi',\n",
    "\n",
    "        'train_class': 'outer_normal,outer_damage,outer_dirt,outer_wash,inner_wash,inner_dashboard,inner_cupholder,inner_glovebox,inner_washer_fluid,inner_rear_seat,inner_sheet_dirt', \n",
    "        'test_class': 'outer_normal,outer_damage,outer_dirt,outer_wash,inner_wash,inner_dashboard,inner_cupholder,inner_glovebox,inner_washer_fluid,inner_rear_seat,inner_sheet_dirt', \n",
    "\n",
    "        'num_workers': 4, \n",
    "        'batch_size': 128 ,\n",
    "        'ce_label': False, \n",
    "        'show_img': False, # to show result imgs \n",
    "    }\n",
    ")\n",
    "args.train_class_name = [item for item in args.train_class.split(',')]\n",
    "args.test_class_name = [item for item in args.test_class.split(',')]\n",
    "\n",
    "args.train_class = [name_to_class[item] for item in args.train_class.split(',')]\n",
    "args.test_class = [name_to_class[item] for item in args.test_class.split(',')]"
   ]
  },
  {
   "cell_type": "markdown",
   "metadata": {},
   "source": [
    "# Dataloader "
   ]
  },
  {
   "cell_type": "code",
   "execution_count": 2,
   "metadata": {},
   "outputs": [],
   "source": [
    "import cv2\n",
    "import glob \n",
    "from PIL import Image, ImageFile\n",
    "\n",
    "from torch.utils.data.dataset import Dataset\n",
    "from torch.utils.data import DataLoader\n",
    "from torchvision import transforms\n",
    "\n",
    "ImageFile.LOAD_TRUNCATED_IMAGES = True\n",
    "\n",
    "normalize = transforms.Normalize(\n",
    "            mean=[0.485, 0.456, 0.406],\n",
    "            std=[0.229, 0.224, 0.225]\n",
    "        )\n",
    "\n",
    "test_transform = transforms.Compose([\n",
    "            transforms.Resize((448, 448)),\n",
    "            transforms.ToTensor(),\n",
    "            normalize\n",
    "        ])\n",
    "\n",
    "class SofarExtDataset(Dataset):\n",
    "    def __init__(self, root, transform=None):\n",
    "        self.root = root\n",
    "        self.data = glob.glob(root + '/*.jpg')\n",
    "        \n",
    "        self.transform = transform\n",
    "        \n",
    "    def __getitem__(self, index):\n",
    "        path  = self.data[index]\n",
    "        filename = path.split('/')[-1]\n",
    "        # x = Image.open(path).convert(\"RGB\")\n",
    "        img = cv2.imread(path)[:,:,::-1]\n",
    "        x = Image.fromarray(img)\n",
    "        \n",
    "        if self.transform is not None:\n",
    "            x = self.transform(x)\n",
    "        return x, path\n",
    "\n",
    "    def __len__(self):\n",
    "        return len(self.data)"
   ]
  },
  {
   "cell_type": "code",
   "execution_count": 3,
   "metadata": {},
   "outputs": [
    {
     "name": "stdout",
     "output_type": "stream",
     "text": [
      "38\n"
     ]
    }
   ],
   "source": [
    "# external validation dataloader \n",
    "ext_dataset = SofarExtDataset(args.data_root_path, \n",
    "                                transform=test_transform)\n",
    "print(len(ext_dataset))\n",
    "ext_loader = DataLoader(\n",
    "            ext_dataset,\n",
    "            batch_size=args.batch_size,\n",
    "            shuffle=False,\n",
    "            num_workers=args.num_workers,\n",
    "            pin_memory=True,\n",
    "            drop_last=False,\n",
    "        ) "
   ]
  },
  {
   "cell_type": "markdown",
   "metadata": {},
   "source": [
    "# Model"
   ]
  },
  {
   "cell_type": "code",
   "execution_count": 4,
   "metadata": {},
   "outputs": [
    {
     "name": "stdout",
     "output_type": "stream",
     "text": [
      "pre-trained v2 model is loaded\n"
     ]
    }
   ],
   "source": [
    "import os \n",
    "import torch \n",
    "import torch.nn as nn \n",
    "\n",
    "from model.set_model import set_model\n",
    "\n",
    "model = set_model(args)\n",
    "\n",
    "state_dict = torch.load(os.path.join(args.model_path, 'last.pth'), map_location='cpu')\n",
    "model.load_state_dict(state_dict)\n",
    "print('pre-trained v2 model is loaded')"
   ]
  },
  {
   "cell_type": "markdown",
   "metadata": {},
   "source": [
    "# Test"
   ]
  },
  {
   "cell_type": "code",
   "execution_count": 7,
   "metadata": {},
   "outputs": [],
   "source": [
    "from tqdm import tqdm \n",
    "import numpy as np \n",
    "import torch.nn.functional as F\n",
    "\n",
    "@torch.no_grad() \n",
    "def test(dataloader, model):\n",
    "    device = torch.device(\"cuda:0\" if torch.cuda.is_available() else \"cpu\")\n",
    "    \n",
    "    model.to(device)\n",
    "    model.eval()\n",
    "\n",
    "    top1, top2 = [], []\n",
    "\n",
    "    for (img, path) in tqdm(dataloader):\n",
    "        img = img.to(device)\n",
    "\n",
    "        # forward\n",
    "        if args.arch == 'resnet':\n",
    "            out = model(img)\n",
    "            \n",
    "        elif args.arch == 'pmg':\n",
    "            out = model._forward(img)\n",
    "            out = out[-1]\n",
    "        \n",
    "        # pred \n",
    "        if args.method == 'uni':\n",
    "            _, pred = torch.topk(out, dim=1, k=2) \n",
    "            top1.extend(pred[:,0].view(-1).cpu().detach().numpy().tolist())\n",
    "            top2.extend(pred[:,1].view(-1).cpu().detach().numpy().tolist())\n",
    "        elif args.method == 'multi_v2':\n",
    "            pred_dirt, pred_defect = [], []\n",
    "            out[:, 0] = torch.sigmoid(out[: ,0])\n",
    "            out[:, 1] = torch.sigmoid(out[: ,1])\n",
    "            out[:, 2] = torch.sigmoid(out[: ,2])\n",
    "            out[:, 3:] = F.softmax(out[: ,3:], dim=1)                \n",
    "\n",
    "            vals, preds = torch.topk(out, dim=1, k=2) \n",
    "            \n",
    "            for val, pred in zip(vals, preds):\n",
    "                top1_val, top2_val = val \n",
    "                top1_pred, top2_pred = val \n",
    "                \n",
    "                top1.append(pred_logic(top1_val, top1_pred))\n",
    "                top2.append(pred_logic(top2_val, top2_pred))\n",
    "                    \n",
    "    return top1, top2\n",
    "\n",
    "def pred_logic(val, pred):\n",
    "    if pred >= 3:\n",
    "        return pred.item() + 1 \n",
    "    else:\n",
    "        if val < 0.5:\n",
    "            return 0 \n",
    "        else:\n",
    "            return pred.item() + 1"
   ]
  },
  {
   "cell_type": "code",
   "execution_count": 8,
   "metadata": {},
   "outputs": [
    {
     "name": "stderr",
     "output_type": "stream",
     "text": [
      "100%|██████████| 1/1 [00:03<00:00,  3.93s/it]\n"
     ]
    }
   ],
   "source": [
    "top1, top2 = test(ext_loader, model)"
   ]
  },
  {
   "cell_type": "code",
   "execution_count": 9,
   "metadata": {},
   "outputs": [],
   "source": [
    "def get_result(top_pred):\n",
    "    num_data = len(top_pred) \n",
    "\n",
    "    class_to_name = {1:'outer_damage', 2:'outer_dirt'}\n",
    "\n",
    "    counts = {}\n",
    "    for k in class_to_name:\n",
    "        count = 0 \n",
    "        for v in top_pred:\n",
    "            if v == k:\n",
    "                count += 1 \n",
    "        counts[class_to_name[k]] = float(count) / num_data \n",
    "\n",
    "    counts['etc'] = 1- sum(counts.values())\n",
    "\n",
    "    return counts "
   ]
  },
  {
   "cell_type": "code",
   "execution_count": 10,
   "metadata": {},
   "outputs": [
    {
     "name": "stdout",
     "output_type": "stream",
     "text": [
      "{'outer_damage': 0.0, 'outer_dirt': 0.21052631578947367, 'etc': 0.7894736842105263}\n",
      "{'outer_damage': 0.0, 'outer_dirt': 0.02631578947368421, 'etc': 0.9736842105263158}\n"
     ]
    },
    {
     "data": {
      "image/png": "[encoded data removed]",
      "text/plain": [
       "<Figure size 432x288 with 1 Axes>"
      ]
     },
     "metadata": {
      "needs_background": "light"
     },
     "output_type": "display_data"
    }
   ],
   "source": [
    "import matplotlib.pyplot as plt\n",
    "\n",
    "top1_result = get_result(top1)\n",
    "top2_result = get_result(top2)\n",
    "\n",
    "print(top1_result)\n",
    "print(top2_result)\n",
    "\n",
    "bar_width = 0.35\n",
    "alpha = 0.5\n",
    "\n",
    "index = np.arange(len(top1_result.keys()))\n",
    "p1 = plt.bar(index, top1_result.values(),\n",
    "            bar_width, \n",
    "            color='b', \n",
    "            alpha=alpha,\n",
    "            label='Top1 prediction')\n",
    "p2 = plt.bar(index+ bar_width, top2_result.values(),\n",
    "            bar_width, \n",
    "            color='r', \n",
    "            alpha=alpha,\n",
    "            label='Top2 prediction')\n",
    "plt.ylabel('Prediction Ratio', fontsize=13)\n",
    "\n",
    "plt.xlabel('Predicted Label', fontsize=13)\n",
    "\n",
    "# plt.xticks(index, top1_result.keys())\n",
    "plt.xticks(index, ['Defect', 'Dirt', 'Others'])\n",
    "\n",
    "plt.legend()\n",
    "plt.show()\n"
   ]
  },
  {
   "cell_type": "code",
   "execution_count": null,
   "metadata": {},
   "outputs": [],
   "source": []
  }
 ],
 "metadata": {
  "kernelspec": {
   "display_name": "Python 3 (ipykernel)",
   "language": "python",
   "name": "python3"
  },
  "language_info": {
   "codemirror_mode": {
    "name": "ipython",
    "version": 3
   },
   "file_extension": ".py",
   "mimetype": "text/x-python",
   "name": "python",
   "nbconvert_exporter": "python",
   "pygments_lexer": "ipython3",
   "version": "3.8.7"
  }
 },
 "nbformat": 4,
 "nbformat_minor": 4
}
