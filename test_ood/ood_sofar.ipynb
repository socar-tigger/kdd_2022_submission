{
 "cells": [
  {
   "cell_type": "markdown",
   "metadata": {},
   "source": [
    "# Configuration "
   ]
  },
  {
   "cell_type": "code",
   "execution_count": 1,
   "metadata": {},
   "outputs": [],
   "source": [
    "import easydict\n",
    "from downstream_modules.data_utils import name_to_class\n",
    "\n",
    "args = easydict.EasyDict(\n",
    "    {\n",
    "        # 'model_path': './artifacts/pmg_uni/epochs=20',\n",
    "        'model_path': './artifacts/pmg_multi/epochs=20',\n",
    "        # 'model_path': './artifacts/pmg_uni/baseline1_dirt_epochs=20',\n",
    "        'arch': 'pmg', # 'pmg', 'resnet'\n",
    "        'method': 'multi', # 'uni', 'multi', 'baseline'\n",
    "        'dataset': 'sofar_v3',\n",
    "        'data_root_path': '../../../dataset/',\n",
    "        'train_class': 'outer_normal,outer_damage,outer_dirt,outer_wash,inner_wash,inner_dashboard,inner_cupholder,inner_glovebox,inner_washer_fluid,inner_rear_seat,inner_sheet_dirt', \n",
    "        'test_class': 'outer_normal,outer_damage,outer_dirt,outer_wash,inner_wash,inner_dashboard,inner_cupholder,inner_glovebox,inner_washer_fluid,inner_rear_seat,inner_sheet_dirt', \n",
    "        # 'train_class': 'outer_normal,outer_dirt',\n",
    "        # 'test_class': 'outer_normal,outer_dirt',\n",
    "\n",
    "        'num_workers': 4, \n",
    "        'batch_size': 128 ,\n",
    "        'ce_label': False, \n",
    "        'show_img': False, # to show result imgs \n",
    "    }\n",
    ")\n",
    "args.train_class_name = [item for item in args.train_class.split(',')]\n",
    "args.test_class_name = [item for item in args.test_class.split(',')]\n",
    "\n",
    "args.train_class = [name_to_class[item] for item in args.train_class.split(',')]\n",
    "args.test_class = [name_to_class[item] for item in args.test_class.split(',')]"
   ]
  },
  {
   "cell_type": "markdown",
   "metadata": {},
   "source": [
    "# Dataloader "
   ]
  },
  {
   "cell_type": "code",
   "execution_count": 2,
   "metadata": {},
   "outputs": [],
   "source": [
    "from downstream_modules.data_utils import create_dataloader\n",
    "\n",
    "_, test_loader = create_dataloader(args)"
   ]
  },
  {
   "cell_type": "markdown",
   "metadata": {},
   "source": [
    "# Model"
   ]
  },
  {
   "cell_type": "code",
   "execution_count": 3,
   "metadata": {},
   "outputs": [
    {
     "name": "stdout",
     "output_type": "stream",
     "text": [
      "pre-trained v2 model is loaded\n"
     ]
    }
   ],
   "source": [
    "import os \n",
    "import torch \n",
    "import torch.nn as nn \n",
    "\n",
    "if args.arch == 'resnet':\n",
    "    pass \n",
    "# TODO: \n",
    "#     import torchvision\n",
    "    \n",
    "#     model = torchvision.models.resnet50(pretrained=False)\n",
    "#     in_feats = model.fc.in_features\n",
    "#     model.fc = nn.Identity()\n",
    "\n",
    "elif args.arch == 'pmg':\n",
    "    from models.resnet import resnet50\n",
    "    from models.pmg import PMG, PMG_Multi\n",
    "    \n",
    "    model = resnet50(pretrained=False)\n",
    "    ## TODO: uni, multi case \n",
    "    if args.method == 'uni' or args.method == 'baseline':\n",
    "        model = PMG(model, feature_size = 512, num_classes = len(args.train_class))\n",
    "    elif args.method == 'multi':\n",
    "        model = PMG(model, feature_size = 512, num_classes = len(args.train_class)-1) \n",
    "        # device = torch.device(\"cuda:0\" if torch.cuda.is_available() else \"cpu\")\n",
    "        # model = PMG_Multi(model, 512, device)\n",
    "\n",
    "\n",
    "state_dict = torch.load(os.path.join(args.model_path, 'last.pth'), map_location='cpu')\n",
    "model.load_state_dict(state_dict)\n",
    "print('pre-trained v2 model is loaded')"
   ]
  },
  {
   "cell_type": "markdown",
   "metadata": {},
   "source": [
    "# Test"
   ]
  },
  {
   "cell_type": "code",
   "execution_count": 10,
   "metadata": {},
   "outputs": [],
   "source": [
    "from tqdm import tqdm \n",
    "import numpy as np \n",
    "\n",
    "import torch.nn.functional as F \n",
    "\n",
    "@torch.no_grad() \n",
    "def ood_test(dataloader, model):\n",
    "    device = torch.device(\"cuda:0\" if torch.cuda.is_available() else \"cpu\")\n",
    "    \n",
    "    model.to(device)\n",
    "    model.eval()\n",
    "\n",
    "    test_preds = []\n",
    "    test_labels =[] \n",
    "\n",
    "    for (img, label) in tqdm(dataloader):\n",
    "        img = img.to(device)\n",
    "\n",
    "        # forward\n",
    "        if args.arch == 'resnet':\n",
    "            out = model(img)\n",
    "            \n",
    "        elif args.arch == 'pmg':\n",
    "            out = model._forward(img)\n",
    "            out = out[-1]\n",
    "        \n",
    "        # pred \n",
    "        if args.method == 'uni':\n",
    "            out = F.softmax(out,dim=1)\n",
    "            if args.task == 'defect':\n",
    "                pred = out[:,1]\n",
    "            elif args.task == 'dirt':\n",
    "                pred = out[:,2]\n",
    "            test_preds.extend(pred.view(-1).cpu().detach().numpy().tolist())\n",
    "        elif args.method == 'baseline':\n",
    "            out = F.softmax(out, dim=1)\n",
    "            pred = out[:,1]\n",
    "            test_preds.extend(pred.view(-1).cpu().detach().numpy().tolist())\n",
    "        elif args.method == 'multi':\n",
    "            if args.task == 'defect':\n",
    "                pred = F.sigmoid(out[:,0])\n",
    "                # pred = F.kl_div(pred, torch.ones_like(pred) / 2., reduction='none')\n",
    "                # pred = torch.abs(pred - torch.ones_like(pred) / 2.)\n",
    "                # pred = torch.max(out[0],dim=1)[0]\n",
    "            elif args.task == 'dirt':\n",
    "                pred = F.sigmoid(out[:,1])\n",
    "                # pred = F.kl_div(pred, torch.ones_like(pred) / 2., reduction='none')\n",
    "                # pred = torch.abs(pred - torch.ones_like(pred) / 2.)\n",
    "                # pred = torch.max(out[1],dim=1)[0]\n",
    "            \n",
    "            test_preds.extend(pred.view(-1).cpu().detach().numpy().tolist())\n",
    "\n",
    "        test_labels.extend(label.view(-1).cpu().numpy().tolist())\n",
    "    \n",
    "    if args.task == 'dirt':\n",
    "        target = [2]\n",
    "    elif args.task == 'defect':\n",
    "        target = [1]\n",
    "    task_idx = np.isin(test_labels, target)\n",
    "\n",
    "    test_labels = np.concatenate(([1 for _ in range(len(np.array(test_preds)[task_idx]))],[0 for _ in range(len(np.array(test_preds)[~task_idx]))]))    \n",
    "    test_preds = np.concatenate((np.array(test_preds)[task_idx], np.array(test_preds)[~task_idx]))\n",
    "    \n",
    "    return test_labels, test_preds"
   ]
  },
  {
   "cell_type": "code",
   "execution_count": 11,
   "metadata": {},
   "outputs": [
    {
     "name": "stderr",
     "output_type": "stream",
     "text": [
      "  0%|          | 0/8 [00:00<?, ?it/s]"
     ]
    },
    {
     "name": "stdout",
     "output_type": "stream",
     "text": [
      "torch.Size([10])\n"
     ]
    },
    {
     "name": "stderr",
     "output_type": "stream",
     "text": [
      "/home/jovyan/.local/lib/python3.8/site-packages/torch/nn/functional.py:1806: UserWarning: nn.functional.sigmoid is deprecated. Use torch.sigmoid instead.\n",
      "  warnings.warn(\"nn.functional.sigmoid is deprecated. Use torch.sigmoid instead.\")\n",
      " 12%|█▎        | 1/8 [00:12<01:30, 12.97s/it]"
     ]
    },
    {
     "name": "stdout",
     "output_type": "stream",
     "text": [
      "torch.Size([10])\n"
     ]
    },
    {
     "name": "stderr",
     "output_type": "stream",
     "text": [
      " 25%|██▌       | 2/8 [00:14<00:36,  6.07s/it]"
     ]
    },
    {
     "name": "stdout",
     "output_type": "stream",
     "text": [
      "torch.Size([10])\n"
     ]
    },
    {
     "name": "stderr",
     "output_type": "stream",
     "text": [
      " 38%|███▊      | 3/8 [00:20<00:30,  6.10s/it]"
     ]
    },
    {
     "name": "stdout",
     "output_type": "stream",
     "text": [
      "torch.Size([10])\n"
     ]
    },
    {
     "name": "stderr",
     "output_type": "stream",
     "text": [
      " 50%|█████     | 4/8 [00:21<00:16,  4.18s/it]"
     ]
    },
    {
     "name": "stdout",
     "output_type": "stream",
     "text": [
      "torch.Size([10])\n"
     ]
    },
    {
     "name": "stderr",
     "output_type": "stream",
     "text": [
      " 62%|██████▎   | 5/8 [00:23<00:10,  3.40s/it]"
     ]
    },
    {
     "name": "stdout",
     "output_type": "stream",
     "text": [
      "torch.Size([10])\n"
     ]
    },
    {
     "name": "stderr",
     "output_type": "stream",
     "text": [
      " 75%|███████▌  | 6/8 [00:24<00:05,  2.66s/it]"
     ]
    },
    {
     "name": "stdout",
     "output_type": "stream",
     "text": [
      "torch.Size([10])\n"
     ]
    },
    {
     "name": "stderr",
     "output_type": "stream",
     "text": [
      " 88%|████████▊ | 7/8 [00:30<00:03,  3.71s/it]"
     ]
    },
    {
     "name": "stdout",
     "output_type": "stream",
     "text": [
      "torch.Size([10])\n"
     ]
    },
    {
     "name": "stderr",
     "output_type": "stream",
     "text": [
      "100%|██████████| 8/8 [00:31<00:00,  3.90s/it]\n"
     ]
    },
    {
     "name": "stdout",
     "output_type": "stream",
     "text": [
      "dirt 0.9381674346916629\n"
     ]
    },
    {
     "name": "stderr",
     "output_type": "stream",
     "text": [
      "  0%|          | 0/8 [00:00<?, ?it/s]/home/jovyan/.local/lib/python3.8/site-packages/torch/nn/functional.py:1806: UserWarning: nn.functional.sigmoid is deprecated. Use torch.sigmoid instead.\n",
      "  warnings.warn(\"nn.functional.sigmoid is deprecated. Use torch.sigmoid instead.\")\n",
      "100%|██████████| 8/8 [00:31<00:00,  3.91s/it]"
     ]
    },
    {
     "name": "stdout",
     "output_type": "stream",
     "text": [
      "defect 0.8734478672985783\n"
     ]
    },
    {
     "name": "stderr",
     "output_type": "stream",
     "text": [
      "\n"
     ]
    }
   ],
   "source": [
    "from sklearn.metrics import * \n",
    "tasks = ['dirt', 'defect']\n",
    "for task in tasks:\n",
    "    args.task = task\n",
    "    labels, preds = ood_test(test_loader, model)\n",
    "    print(task, roc_auc_score(labels, preds))"
   ]
  },
  {
   "cell_type": "code",
   "execution_count": null,
   "metadata": {},
   "outputs": [],
   "source": []
  }
 ],
 "metadata": {
  "kernelspec": {
   "display_name": "Python 3 (ipykernel)",
   "language": "python",
   "name": "python3"
  },
  "language_info": {
   "codemirror_mode": {
    "name": "ipython",
    "version": 3
   },
   "file_extension": ".py",
   "mimetype": "text/x-python",
   "name": "python",
   "nbconvert_exporter": "python",
   "pygments_lexer": "ipython3",
   "version": "3.8.7"
  }
 },
 "nbformat": 4,
 "nbformat_minor": 4
}
