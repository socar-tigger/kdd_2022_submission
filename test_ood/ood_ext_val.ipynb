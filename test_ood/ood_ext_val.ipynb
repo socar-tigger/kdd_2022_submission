{
 "cells": [
  {
   "cell_type": "markdown",
   "metadata": {},
   "source": [
    "# Configuration "
   ]
  },
  {
   "cell_type": "code",
   "execution_count": 39,
   "metadata": {},
   "outputs": [],
   "source": [
    "import easydict\n",
    "from downstream_modules.data_utils import name_to_class\n",
    "\n",
    "args = easydict.EasyDict(\n",
    "    {\n",
    "        # 'model_path': './artifacts/pmg_uni/epochs=20',\n",
    "        'model_path': './artifacts/pmg_multi/epochs=20',\n",
    "        # 'model_path': './artifacts/pmg_uni/baseline1_defect_epochs=20',\n",
    "        'arch': 'pmg', # 'pmg', 'resnet'\n",
    "        'method': 'multi', # 'uni', 'multi', 'baseline'\n",
    "        'dataset': 'sofar_v3',\n",
    "        'data_root_path': '../../../dataset/',\n",
    "        \n",
    "        'train_class': 'outer_normal,outer_damage,outer_dirt,outer_wash,inner_wash,inner_dashboard,inner_cupholder,inner_glovebox,inner_washer_fluid,inner_rear_seat,inner_sheet_dirt', \n",
    "        'test_class': 'outer_normal,outer_damage,outer_dirt,outer_wash,inner_wash,inner_dashboard,inner_cupholder,inner_glovebox,inner_washer_fluid,inner_rear_seat,inner_sheet_dirt', \n",
    "        # 'train_class': 'outer_normal,outer_damage',\n",
    "        # 'test_class': 'outer_normal,outer_damage',\n",
    "\n",
    "        'num_workers': 4, \n",
    "        'batch_size': 128 ,\n",
    "        'ce_label': False, \n",
    "        'show_img': False, # to show result imgs \n",
    "    }\n",
    ")\n",
    "args.train_class_name = [item for item in args.train_class.split(',')]\n",
    "args.test_class_name = [item for item in args.test_class.split(',')]\n",
    "\n",
    "args.train_class = [name_to_class[item] for item in args.train_class.split(',')]\n",
    "args.test_class = [name_to_class[item] for item in args.test_class.split(',')]"
   ]
  },
  {
   "cell_type": "markdown",
   "metadata": {},
   "source": [
    "# Dataloader "
   ]
  },
  {
   "cell_type": "code",
   "execution_count": 33,
   "metadata": {},
   "outputs": [],
   "source": [
    "import cv2\n",
    "import glob \n",
    "import pandas as pd\n",
    "from PIL import Image, ImageFile\n",
    "\n",
    "from torch.utils.data.dataset import Dataset\n",
    "from torch.utils.data import DataLoader\n",
    "from torchvision import transforms\n",
    "import torchvision\n",
    "# from torchvision.datasets import ImageFolder\n",
    "\n",
    "ImageFile.LOAD_TRUNCATED_IMAGES = True\n",
    "\n",
    "normalize = transforms.Normalize(\n",
    "            mean=[0.485, 0.456, 0.406],\n",
    "            std=[0.229, 0.224, 0.225]\n",
    "        )\n",
    "\n",
    "test_transform = transforms.Compose([\n",
    "            transforms.Resize((448, 448)),\n",
    "            transforms.ToTensor(),\n",
    "            normalize\n",
    "        ])\n",
    "\n",
    "class SofarExtDataset(Dataset):\n",
    "    def __init__(self, root, transform=None):\n",
    "        self.root = root\n",
    "        self.data = glob.glob(root + '/*.jpg')\n",
    "        \n",
    "        self.transform = transform\n",
    "        \n",
    "    def __getitem__(self, index):\n",
    "        path  = self.data[index]\n",
    "        filename = path.split('/')[-1]\n",
    "        # x = Image.open(path).convert(\"RGB\")\n",
    "        img = cv2.imread(path)[:,:,::-1]\n",
    "        x = Image.fromarray(img)\n",
    "        \n",
    "        if self.transform is not None:\n",
    "            x = self.transform(x)\n",
    "        return x, 0\n",
    "\n",
    "    def __len__(self):\n",
    "        return len(self.data)"
   ]
  },
  {
   "cell_type": "code",
   "execution_count": 34,
   "metadata": {},
   "outputs": [],
   "source": [
    "from downstream_modules.data_utils import create_dataloader\n",
    "\n",
    "# test dataloader \n",
    "_, id_loader = create_dataloader(args)"
   ]
  },
  {
   "cell_type": "markdown",
   "metadata": {},
   "source": [
    "# Model"
   ]
  },
  {
   "cell_type": "code",
   "execution_count": 40,
   "metadata": {},
   "outputs": [
    {
     "name": "stdout",
     "output_type": "stream",
     "text": [
      "pre-trained v2 model is loaded\n"
     ]
    }
   ],
   "source": [
    "import os \n",
    "import torch \n",
    "import torch.nn as nn \n",
    "\n",
    "if args.arch == 'resnet':\n",
    "    pass \n",
    "# TODO: \n",
    "#     import torchvision\n",
    "    \n",
    "#     model = torchvision.models.resnet50(pretrained=False)\n",
    "#     in_feats = model.fc.in_features\n",
    "#     model.fc = nn.Identity()\n",
    "\n",
    "elif args.arch == 'pmg':\n",
    "    from models.resnet import resnet50\n",
    "    from models.pmg import PMG\n",
    "    \n",
    "    model = resnet50(pretrained=False)\n",
    "    ## TODO: uni, multi case \n",
    "    if args.method == 'uni' or args.method == 'baseline':\n",
    "        model = PMG(model, feature_size = 512, num_classes = len(args.train_class))\n",
    "    elif args.method == 'multi':\n",
    "        model = PMG(model, feature_size = 512, num_classes = len(args.train_class)-1) \n",
    "\n",
    "state_dict = torch.load(os.path.join(args.model_path, 'last.pth'), map_location='cpu')\n",
    "model.load_state_dict(state_dict)\n",
    "print('pre-trained v2 model is loaded')"
   ]
  },
  {
   "cell_type": "markdown",
   "metadata": {},
   "source": [
    "# Test"
   ]
  },
  {
   "cell_type": "code",
   "execution_count": 36,
   "metadata": {},
   "outputs": [],
   "source": [
    "from tqdm import tqdm \n",
    "import numpy as np \n",
    "\n",
    "import torch.nn.functional as F \n",
    "\n",
    "@torch.no_grad()\n",
    "def get_pred(model, dataloader):\n",
    "    device = torch.device(\"cuda:0\" if torch.cuda.is_available() else \"cpu\")\n",
    "    \n",
    "    model.to(device)\n",
    "    model.eval()\n",
    "\n",
    "    test_preds = []\n",
    "\n",
    "    for img, _ in tqdm(dataloader):\n",
    "        img = img.to(device)\n",
    "\n",
    "        # forward\n",
    "        if args.arch == 'resnet':\n",
    "            out = model(img)\n",
    "            \n",
    "        elif args.arch == 'pmg':\n",
    "            out = model._forward(img)\n",
    "            out = out[-1]\n",
    "        \n",
    "        # pred \n",
    "        if args.method == 'uni':\n",
    "            out = F.softmax(out,dim=1)\n",
    "            pred, _ = torch.max(out, dim=1)\n",
    "            test_preds.extend(pred.view(-1).cpu().detach().numpy().tolist())\n",
    "        elif args.method == 'baseline':\n",
    "            out = F.softmax(out, dim=1)\n",
    "            pred, _ = torch.max(out, dim=1)\n",
    "            test_preds.extend(pred.view(-1).cpu().detach().numpy().tolist())\n",
    "        elif args.method == 'multi':\n",
    "            out_1 = F.sigmoid(out[:,0]).unsqueeze(1)\n",
    "            out_2 = F.sigmoid(out[:,1]).unsqueeze(1)\n",
    "            out_3 = F.sigmoid(out[:,2]).unsqueeze(1)\n",
    "            out_4 = F.softmax(out[:,3:], dim=1)\n",
    "            out = torch.cat([out_1,out_2,out_3,out_4], dim=1)\n",
    "            # pred, _ = torch.max(out, dim=1)\n",
    "            uniform = torch.tensor([0.5, 0.5, 0.5, 1./7, 1./7, 1./7, 1./7, 1./7, 1./7, 1./7]).unsqueeze(0).repeat(out.shape[0],1).to(device)\n",
    "            pred = F.kl_div(out, uniform, reduction='none')\n",
    "\n",
    "            test_preds.extend(pred.view(-1).cpu().detach().numpy().tolist())\n",
    "    return test_preds \n",
    "\n"
   ]
  },
  {
   "cell_type": "code",
   "execution_count": 41,
   "metadata": {},
   "outputs": [
    {
     "name": "stderr",
     "output_type": "stream",
     "text": [
      "  0%|          | 0/8 [00:00<?, ?it/s]/home/jovyan/.local/lib/python3.8/site-packages/torch/nn/functional.py:1806: UserWarning: nn.functional.sigmoid is deprecated. Use torch.sigmoid instead.\n",
      "  warnings.warn(\"nn.functional.sigmoid is deprecated. Use torch.sigmoid instead.\")\n",
      "100%|██████████| 8/8 [00:30<00:00,  3.85s/it]\n"
     ]
    }
   ],
   "source": [
    "# in-dist\n",
    "id_preds = get_pred(model, id_loader)"
   ]
  },
  {
   "cell_type": "code",
   "execution_count": 42,
   "metadata": {},
   "outputs": [
    {
     "name": "stdout",
     "output_type": "stream",
     "text": [
      "83\n"
     ]
    },
    {
     "name": "stderr",
     "output_type": "stream",
     "text": [
      "100%|██████████| 1/1 [00:12<00:00, 12.59s/it]\n"
     ]
    },
    {
     "name": "stdout",
     "output_type": "stream",
     "text": [
      "98_rejection_easy_bill 0.6040650525832142\n",
      "102\n"
     ]
    },
    {
     "name": "stderr",
     "output_type": "stream",
     "text": [
      "  0%|          | 0/1 [00:00<?, ?it/s]/home/jovyan/.local/lib/python3.8/site-packages/torch/nn/functional.py:1806: UserWarning: nn.functional.sigmoid is deprecated. Use torch.sigmoid instead.\n",
      "  warnings.warn(\"nn.functional.sigmoid is deprecated. Use torch.sigmoid instead.\")\n",
      "100%|██████████| 1/1 [00:07<00:00,  7.85s/it]\n"
     ]
    },
    {
     "name": "stdout",
     "output_type": "stream",
     "text": [
      "98_rejection_wheel 0.6052655574941841\n",
      "108\n"
     ]
    },
    {
     "name": "stderr",
     "output_type": "stream",
     "text": [
      "  0%|          | 0/1 [00:00<?, ?it/s]/home/jovyan/.local/lib/python3.8/site-packages/torch/nn/functional.py:1806: UserWarning: nn.functional.sigmoid is deprecated. Use torch.sigmoid instead.\n",
      "  warnings.warn(\"nn.functional.sigmoid is deprecated. Use torch.sigmoid instead.\")\n",
      "100%|██████████| 1/1 [00:06<00:00,  6.30s/it]"
     ]
    },
    {
     "name": "stdout",
     "output_type": "stream",
     "text": [
      "98_rejection_document 0.5766122292843692\n"
     ]
    },
    {
     "name": "stderr",
     "output_type": "stream",
     "text": [
      "\n"
     ]
    }
   ],
   "source": [
    "from sklearn.metrics import * \n",
    "\n",
    "# ood \n",
    "ext_val_path = ['../../../dataset/98_rejection_easy_bill', '../../../dataset/98_rejection_wheel', '../../../dataset/98_rejection_document']\n",
    "for path in ext_val_path:\n",
    "    # external validation dataloader \n",
    "    ext_dataset = SofarExtDataset(path, \n",
    "                                    transform=test_transform)\n",
    "    print(len(ext_dataset))\n",
    "    ood_loader = DataLoader(\n",
    "                ext_dataset,\n",
    "                batch_size=args.batch_size,\n",
    "                shuffle=False,\n",
    "                num_workers=args.num_workers,\n",
    "                pin_memory=True,\n",
    "                drop_last=False,\n",
    "            ) \n",
    "    ood_preds = get_pred(model, ood_loader)\n",
    "    test_preds = np.concatenate((id_preds, ood_preds))\n",
    "    \n",
    "    test_labels = np.concatenate(([1 for _ in range(len(np.array(id_preds)))],[0 for _ in range(len(np.array(ood_preds)))]))    \n",
    "    print(path.split('/')[-1], roc_auc_score(test_labels, test_preds))"
   ]
  },
  {
   "cell_type": "code",
   "execution_count": null,
   "metadata": {},
   "outputs": [],
   "source": []
  },
  {
   "cell_type": "code",
   "execution_count": 19,
   "metadata": {},
   "outputs": [
    {
     "name": "stdout",
     "output_type": "stream",
     "text": [
      "multi\n",
      "../../../dataset/98_rejection_easy_bill\n"
     ]
    },
    {
     "data": {
      "image/png": "[encoded data removed]",
      "text/plain": [
       "<Figure size 432x288 with 1 Axes>"
      ]
     },
     "metadata": {
      "needs_background": "light"
     },
     "output_type": "display_data"
    }
   ],
   "source": [
    "import matplotlib.pyplot as plt \n",
    "print(args.method)\n",
    "print(args.data_root_path)\n",
    "plt.hist(np.array(preds), bins=20) \n",
    "plt.show()"
   ]
  },
  {
   "cell_type": "code",
   "execution_count": 23,
   "metadata": {},
   "outputs": [
    {
     "name": "stdout",
     "output_type": "stream",
     "text": [
      "uni\n",
      "../../../dataset/98_rejection_easy_bill\n"
     ]
    },
    {
     "data": {
      "image/png": "[encoded data removed]",
      "text/plain": [
       "<Figure size 432x288 with 1 Axes>"
      ]
     },
     "metadata": {
      "needs_background": "light"
     },
     "output_type": "display_data"
    }
   ],
   "source": [
    "import matplotlib.pyplot as plt \n",
    "print(args.method)\n",
    "print(args.data_root_path)\n",
    "plt.hist(np.array(preds), bins=20) \n",
    "plt.show()"
   ]
  },
  {
   "cell_type": "code",
   "execution_count": 27,
   "metadata": {},
   "outputs": [
    {
     "name": "stdout",
     "output_type": "stream",
     "text": [
      "uni\n",
      "../../../dataset/98_rejection_wheel\n"
     ]
    },
    {
     "data": {
      "image/png": "[encoded data removed]",
      "text/plain": [
       "<Figure size 432x288 with 1 Axes>"
      ]
     },
     "metadata": {
      "needs_background": "light"
     },
     "output_type": "display_data"
    }
   ],
   "source": [
    "import matplotlib.pyplot as plt \n",
    "print(args.method)\n",
    "print(args.data_root_path)\n",
    "plt.hist(np.array(preds), bins=20) \n",
    "plt.show()"
   ]
  },
  {
   "cell_type": "code",
   "execution_count": 31,
   "metadata": {},
   "outputs": [
    {
     "name": "stdout",
     "output_type": "stream",
     "text": [
      "multi\n",
      "../../../dataset/98_rejection_wheel\n"
     ]
    },
    {
     "data": {
      "image/png": "[encoded data removed]",
      "text/plain": [
       "<Figure size 432x288 with 1 Axes>"
      ]
     },
     "metadata": {
      "needs_background": "light"
     },
     "output_type": "display_data"
    }
   ],
   "source": [
    "import matplotlib.pyplot as plt \n",
    "print(args.method)\n",
    "print(args.data_root_path)\n",
    "plt.hist(np.array(preds), bins=20) \n",
    "plt.show()"
   ]
  },
  {
   "cell_type": "code",
   "execution_count": null,
   "metadata": {},
   "outputs": [],
   "source": []
  }
 ],
 "metadata": {
  "kernelspec": {
   "display_name": "Python 3 (ipykernel)",
   "language": "python",
   "name": "python3"
  },
  "language_info": {
   "codemirror_mode": {
    "name": "ipython",
    "version": 3
   },
   "file_extension": ".py",
   "mimetype": "text/x-python",
   "name": "python",
   "nbconvert_exporter": "python",
   "pygments_lexer": "ipython3",
   "version": "3.8.7"
  }
 },
 "nbformat": 4,
 "nbformat_minor": 4
}
