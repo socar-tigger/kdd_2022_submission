{
 "cells": [
  {
   "cell_type": "markdown",
   "metadata": {},
   "source": [
    "# Configuration "
   ]
  },
  {
   "cell_type": "code",
   "execution_count": 7,
   "metadata": {},
   "outputs": [],
   "source": [
    "import sys \n",
    "import easydict\n",
    "sys.path.append('../')\n",
    "from utils.data import name_to_class\n",
    "\n",
    "args = easydict.EasyDict(\n",
    "    {\n",
    "        'model_path': '../artifacts/pmg_uni/exp1',\n",
    "        'arch': 'pmg', # 'pmg', 'resnet'\n",
    "        'method': 'uni', # 'uni', 'multi', 'baseline'\n",
    "        'dataset': 'sofar_v3',\n",
    "        'data_root_path': '../../../../dataset/',\n",
    "        'train_class': 'outer_normal,outer_damage,outer_dirt,outer_wash,inner_wash,inner_dashboard,inner_cupholder,inner_glovebox,inner_washer_fluid,inner_rear_seat,inner_sheet_dirt', \n",
    "        'test_class': 'outer_normal,outer_damage,outer_dirt,outer_wash,inner_wash,inner_dashboard,inner_cupholder,inner_glovebox,inner_washer_fluid,inner_rear_seat,inner_sheet_dirt', \n",
    "\n",
    "        'num_workers': 4, \n",
    "        'batch_size': 128 ,\n",
    "        'ce_label': False, \n",
    "        'show_img': False, # to show result imgs \n",
    "    }\n",
    ")\n",
    "args.train_class_name = [item for item in args.train_class.split(',')]\n",
    "args.test_class_name = [item for item in args.test_class.split(',')]\n",
    "\n",
    "args.train_class = [name_to_class[item] for item in args.train_class.split(',')]\n",
    "args.test_class = [name_to_class[item] for item in args.test_class.split(',')]"
   ]
  },
  {
   "cell_type": "markdown",
   "metadata": {},
   "source": [
    "# Dataloader "
   ]
  },
  {
   "cell_type": "code",
   "execution_count": 2,
   "metadata": {},
   "outputs": [],
   "source": [
    "from utils.data import create_dataloader\n",
    "\n",
    "_, test_loader = create_dataloader(args)"
   ]
  },
  {
   "cell_type": "markdown",
   "metadata": {},
   "source": [
    "# Model"
   ]
  },
  {
   "cell_type": "code",
   "execution_count": 3,
   "metadata": {},
   "outputs": [
    {
     "name": "stdout",
     "output_type": "stream",
     "text": [
      "pre-trained v2 model is loaded\n"
     ]
    }
   ],
   "source": [
    "import os \n",
    "import torch \n",
    "import torch.nn as nn \n",
    "\n",
    "from model.set_model import set_model\n",
    "\n",
    "model = set_model(args)\n",
    "\n",
    "state_dict = torch.load(os.path.join(args.model_path, 'last.pth'), map_location='cpu')\n",
    "model.load_state_dict(state_dict)\n",
    "print('pre-trained v2 model is loaded')"
   ]
  },
  {
   "cell_type": "markdown",
   "metadata": {},
   "source": [
    "# Utils"
   ]
  },
  {
   "cell_type": "code",
   "execution_count": 4,
   "metadata": {},
   "outputs": [],
   "source": [
    "from sklearn.metrics import *\n",
    "\n",
    "def calculate_metrics(trues, preds):\n",
    "    accuracy = accuracy_score(trues, preds)\n",
    "    f1 = f1_score(trues, preds, average='macro')\n",
    "    precision = precision_score(trues, preds, average='macro')\n",
    "    recall = recall_score(trues, preds, average='macro')\n",
    "\n",
    "    return accuracy, f1, precision, recall"
   ]
  },
  {
   "cell_type": "markdown",
   "metadata": {},
   "source": [
    "# Test"
   ]
  },
  {
   "cell_type": "code",
   "execution_count": 5,
   "metadata": {},
   "outputs": [],
   "source": [
    "from tqdm import tqdm \n",
    "import numpy as np \n",
    "\n",
    "@torch.no_grad() \n",
    "def test(dataloader, model):\n",
    "    device = torch.device(\"cuda:0\" if torch.cuda.is_available() else \"cpu\")\n",
    "    \n",
    "    model.to(device)\n",
    "    model.eval()\n",
    "\n",
    "    test_preds = []\n",
    "    test_labels =[] \n",
    "\n",
    "    for (img, label) in tqdm(dataloader):\n",
    "        img = img.to(device)\n",
    "\n",
    "        # forward\n",
    "        if args.arch == 'resnet':\n",
    "            out = model(img)\n",
    "            \n",
    "        elif args.arch == 'pmg':\n",
    "            out = model._forward(img)\n",
    "            out = out[-1]\n",
    "        \n",
    "        # pred \n",
    "        if args.method == 'uni':\n",
    "            _, pred = torch.max(out, 1)\n",
    "            test_preds.extend(pred.view(-1).cpu().detach().numpy().tolist())\n",
    "        \n",
    "        elif args.method == 'baseline':\n",
    "            _, pred = torch.max(out, 1)\n",
    "            pred = pred.view(-1).cpu().detach().numpy()\n",
    "            pred = [args.train_class_name[v] for v in pred]\n",
    "            pred = [name_to_class[v] for v in pred]\n",
    "            test_preds.extend(pred)\n",
    "        \n",
    "        elif args.method == 'multi':\n",
    "            pass\n",
    "        test_labels.extend(label.view(-1).cpu().numpy().tolist())\n",
    "    \n",
    "    return test_labels, test_preds\n",
    "\n",
    "def parse_result(test_labels, test_preds, method, task):\n",
    "    if task == 'dirt':\n",
    "        target = [0,2]\n",
    "    elif task == 'defect':\n",
    "        target = [0,1]\n",
    "    task_idx = np.isin(test_labels, target)\n",
    "    \n",
    "    test_labels = np.array(test_labels)[task_idx]\n",
    "    test_preds = np.array(test_preds)[task_idx]\n",
    "    \n",
    "    if method == 'uni':\n",
    "        if task == 'defect':\n",
    "            target = 1\n",
    "        elif task == 'dirt':\n",
    "            target = 2 \n",
    "\n",
    "        _test_preds = []\n",
    "        for v in test_preds:\n",
    "            if v == target:\n",
    "                _test_preds.append(target)\n",
    "            else:\n",
    "                _test_preds.append(0) \n",
    "        test_preds = _test_preds\n",
    "\n",
    "    return test_labels, test_preds"
   ]
  },
  {
   "cell_type": "code",
   "execution_count": 8,
   "metadata": {},
   "outputs": [
    {
     "name": "stderr",
     "output_type": "stream",
     "text": [
      "100%|██████████| 8/8 [00:30<00:00,  3.82s/it]"
     ]
    },
    {
     "name": "stdout",
     "output_type": "stream",
     "text": [
      "[TEST] Acc: 0.751 || precision 0.747 || recall 0.745 || f1 0.746\n"
     ]
    },
    {
     "name": "stderr",
     "output_type": "stream",
     "text": [
      "\n"
     ]
    }
   ],
   "source": [
    "labels, preds = test(test_loader, model)"
   ]
  },
  {
   "cell_type": "code",
   "execution_count": null,
   "metadata": {},
   "outputs": [],
   "source": [
    "# dirt \n",
    "parsed_labels, parsed_preds = parse_result(labels, preds, args.method, 'dirt')\n",
    "acc, f1, prec, rec = calculate_metrics(parsed_labels, parsed_preds)\n",
    "print('[Dirt Results] Acc || Prec. || Rec. || F1')\n",
    "print('{:.3f} {:.3f} {:.3f} {:.3f}'.format(acc, prec, rec, f1))\n",
    "print(confusion_matrix(labels, preds))"
   ]
  },
  {
   "cell_type": "code",
   "execution_count": null,
   "metadata": {},
   "outputs": [],
   "source": [
    "# defect\n",
    "parsed_labels, parsed_preds = parse_result(labels, preds, args.method, 'defect')\n",
    "acc, f1, prec, rec = calculate_metrics(parsed_labels, parsed_preds)\n",
    "print('[Defect Results] Acc || Prec. || Rec. || F1')\n",
    "print('{:.3f} {:.3f} {:.3f} {:.3f}'.format(acc, prec, rec, f1))\n",
    "print(confusion_matrix(labels, preds))"
   ]
  }
 ],
 "metadata": {
  "kernelspec": {
   "display_name": "Python 3 (ipykernel)",
   "language": "python",
   "name": "python3"
  },
  "language_info": {
   "codemirror_mode": {
    "name": "ipython",
    "version": 3
   },
   "file_extension": ".py",
   "mimetype": "text/x-python",
   "name": "python",
   "nbconvert_exporter": "python",
   "pygments_lexer": "ipython3",
   "version": "3.8.7"
  }
 },
 "nbformat": 4,
 "nbformat_minor": 4
}
